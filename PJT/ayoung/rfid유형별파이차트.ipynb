{
 "cells": [
  {
   "cell_type": "markdown",
   "id": "fd4b360a",
   "metadata": {},
   "source": [
    "각 시군별 동물등록대행업체 규모에 따른,   \n",
    "동물등록유형(내장형/외장형/인식표)비율 을 비교한다.  \n",
    "  \n",
    "- 경기도 전체 평균 등물등록유형 비율\n",
    "- 가장많은 동물등록대행업체가 있는 \"성남시\"의 동물등록유형 비율\n",
    "- 가장적은 동물등록대행업체가 있는 \"여주시\"의 동물등록유형 비율  \n",
    "을 파이차트로 나타내었다.  \n",
    "  \n",
    "동물대행업체가 많을수록 내장형 rfid 방법으로 동물등록을 하는 것을 알 수 있다."
   ]
  },
  {
   "cell_type": "code",
   "execution_count": 1,
   "id": "21a222a7",
   "metadata": {},
   "outputs": [],
   "source": [
    "import numpy as np\n",
    "import pandas as pd\n",
    "import matplotlib as mp\n",
    "import matplotlib.pyplot as plt"
   ]
  },
  {
   "cell_type": "code",
   "execution_count": 2,
   "id": "16fb38a4",
   "metadata": {},
   "outputs": [
    {
     "name": "stderr",
     "output_type": "stream",
     "text": [
      "Matplotlib is building the font cache; this may take a moment.\n"
     ]
    }
   ],
   "source": [
    "fm = mp.font_manager.FontManager()\n",
    "plt.rcParams['font.family'] = 'Malgun Gothic'"
   ]
  },
  {
   "cell_type": "code",
   "execution_count": 3,
   "id": "af53dc4b",
   "metadata": {},
   "outputs": [
    {
     "data": {
      "text/html": [
       "<div>\n",
       "<style scoped>\n",
       "    .dataframe tbody tr th:only-of-type {\n",
       "        vertical-align: middle;\n",
       "    }\n",
       "\n",
       "    .dataframe tbody tr th {\n",
       "        vertical-align: top;\n",
       "    }\n",
       "\n",
       "    .dataframe thead th {\n",
       "        text-align: right;\n",
       "    }\n",
       "</style>\n",
       "<table border=\"1\" class=\"dataframe\">\n",
       "  <thead>\n",
       "    <tr style=\"text-align: right;\">\n",
       "      <th></th>\n",
       "      <th>시군명</th>\n",
       "      <th>업체명</th>\n",
       "      <th>도로명주소</th>\n",
       "      <th>지번주소</th>\n",
       "      <th>우편번호</th>\n",
       "      <th>전화번호</th>\n",
       "      <th>WGS84위도</th>\n",
       "      <th>WGS84경도</th>\n",
       "    </tr>\n",
       "  </thead>\n",
       "  <tbody>\n",
       "    <tr>\n",
       "      <th>0</th>\n",
       "      <td>가평군</td>\n",
       "      <td>가평가축병원</td>\n",
       "      <td>NaN</td>\n",
       "      <td>경기도 가평군 가평읍 대곡리 230번지 3호</td>\n",
       "      <td>12420.0</td>\n",
       "      <td>031-582-2412</td>\n",
       "      <td>37.825038</td>\n",
       "      <td>127.514124</td>\n",
       "    </tr>\n",
       "    <tr>\n",
       "      <th>1</th>\n",
       "      <td>가평군</td>\n",
       "      <td>가평축산농협 동물병원</td>\n",
       "      <td>NaN</td>\n",
       "      <td>경기도 가평군 가평읍 대곡리</td>\n",
       "      <td>NaN</td>\n",
       "      <td>031-582-4111</td>\n",
       "      <td>NaN</td>\n",
       "      <td>NaN</td>\n",
       "    </tr>\n",
       "    <tr>\n",
       "      <th>2</th>\n",
       "      <td>가평군</td>\n",
       "      <td>경기 동물병원</td>\n",
       "      <td>경기도 가평군 청평면 청평중앙로 8</td>\n",
       "      <td>경기도 가평군 청평면 청평리 438-23번지 경기동물병원</td>\n",
       "      <td>12453.0</td>\n",
       "      <td>031-584-1282</td>\n",
       "      <td>37.735850</td>\n",
       "      <td>127.415936</td>\n",
       "    </tr>\n",
       "    <tr>\n",
       "      <th>3</th>\n",
       "      <td>가평군</td>\n",
       "      <td>선진가축병원(산업동물출장진료전문병원)</td>\n",
       "      <td>경기도 가평군 가평읍 향교로 3</td>\n",
       "      <td>경기도 가평군 가평읍 읍내리 535번지 2호</td>\n",
       "      <td>12417.0</td>\n",
       "      <td>070-8739-6388</td>\n",
       "      <td>37.829437</td>\n",
       "      <td>127.510432</td>\n",
       "    </tr>\n",
       "    <tr>\n",
       "      <th>4</th>\n",
       "      <td>가평군</td>\n",
       "      <td>설악동물병원</td>\n",
       "      <td>경기도 가평군 설악면 신천중앙로 117</td>\n",
       "      <td>경기도 가평군 설악면 신천리 454번지 3호</td>\n",
       "      <td>12467.0</td>\n",
       "      <td>031-584-3063</td>\n",
       "      <td>37.677960</td>\n",
       "      <td>127.490633</td>\n",
       "    </tr>\n",
       "  </tbody>\n",
       "</table>\n",
       "</div>"
      ],
      "text/plain": [
       "   시군명                   업체명                  도로명주소  \\\n",
       "0  가평군                가평가축병원                    NaN   \n",
       "1  가평군           가평축산농협 동물병원                    NaN   \n",
       "2  가평군               경기 동물병원    경기도 가평군 청평면 청평중앙로 8   \n",
       "3  가평군  선진가축병원(산업동물출장진료전문병원)      경기도 가평군 가평읍 향교로 3   \n",
       "4  가평군                설악동물병원  경기도 가평군 설악면 신천중앙로 117   \n",
       "\n",
       "                              지번주소     우편번호           전화번호    WGS84위도  \\\n",
       "0         경기도 가평군 가평읍 대곡리 230번지 3호  12420.0   031-582-2412  37.825038   \n",
       "1                  경기도 가평군 가평읍 대곡리      NaN   031-582-4111        NaN   \n",
       "2  경기도 가평군 청평면 청평리 438-23번지 경기동물병원  12453.0   031-584-1282  37.735850   \n",
       "3         경기도 가평군 가평읍 읍내리 535번지 2호  12417.0  070-8739-6388  37.829437   \n",
       "4         경기도 가평군 설악면 신천리 454번지 3호  12467.0   031-584-3063  37.677960   \n",
       "\n",
       "      WGS84경도  \n",
       "0  127.514124  \n",
       "1         NaN  \n",
       "2  127.415936  \n",
       "3  127.510432  \n",
       "4  127.490633  "
      ]
     },
     "execution_count": 3,
     "metadata": {},
     "output_type": "execute_result"
    }
   ],
   "source": [
    "df_kosis= pd.read_csv('C:/Users/KimAY/Desktop/study/workspace_python/pdsample/반려동물등록대행업체현황.csv', encoding='cp949') \n",
    "df_kosis.head()"
   ]
  },
  {
   "cell_type": "code",
   "execution_count": 4,
   "id": "9b075864",
   "metadata": {},
   "outputs": [
    {
     "name": "stdout",
     "output_type": "stream",
     "text": [
      "<class 'pandas.core.frame.DataFrame'>\n",
      "RangeIndex: 1209 entries, 0 to 1208\n",
      "Data columns (total 8 columns):\n",
      " #   Column   Non-Null Count  Dtype  \n",
      "---  ------   --------------  -----  \n",
      " 0   시군명      1209 non-null   object \n",
      " 1   업체명      1209 non-null   object \n",
      " 2   도로명주소    1115 non-null   object \n",
      " 3   지번주소     1209 non-null   object \n",
      " 4   우편번호     1178 non-null   float64\n",
      " 5   전화번호     1141 non-null   object \n",
      " 6   WGS84위도  1182 non-null   float64\n",
      " 7   WGS84경도  1182 non-null   float64\n",
      "dtypes: float64(3), object(5)\n",
      "memory usage: 75.7+ KB\n"
     ]
    }
   ],
   "source": [
    "df_kosis.info()"
   ]
  },
  {
   "cell_type": "code",
   "execution_count": 5,
   "id": "b1467bff",
   "metadata": {},
   "outputs": [],
   "source": [
    "#np.sum(pd.isnull(df_kosis))"
   ]
  },
  {
   "cell_type": "code",
   "execution_count": 6,
   "id": "9c647eee",
   "metadata": {},
   "outputs": [
    {
     "data": {
      "text/plain": [
       "array(['가평군', '고양시', '과천시', '광명시', '광주시', '구리시', '군포시', '김포시', '남양주시',\n",
       "       '동두천시', '부천시', '성남시', '수원시', '시흥시', '안산시', '안성시', '안양시', '양주시',\n",
       "       '양평군', '여주시', '연천군', '오산시', '용인시', '의왕시', '의정부시', '이천시', '파주시',\n",
       "       '평택시', '포천시', '하남시', '화성시'], dtype=object)"
      ]
     },
     "execution_count": 6,
     "metadata": {},
     "output_type": "execute_result"
    }
   ],
   "source": [
    "df_kosis['시군명'].unique()"
   ]
  },
  {
   "cell_type": "code",
   "execution_count": 19,
   "id": "07ad4c28",
   "metadata": {},
   "outputs": [
    {
     "name": "stdout",
     "output_type": "stream",
     "text": [
      "<class 'pandas.core.series.Series'>\n"
     ]
    }
   ],
   "source": [
    "df=df_kosis['시군명'].value_counts()\n",
    "print(type(df))\n",
    "#df"
   ]
  },
  {
   "cell_type": "code",
   "execution_count": 8,
   "id": "e3ac3ada",
   "metadata": {},
   "outputs": [
    {
     "name": "stdout",
     "output_type": "stream",
     "text": [
      "<class 'pandas.core.frame.DataFrame'>\n"
     ]
    },
    {
     "data": {
      "text/html": [
       "<div>\n",
       "<style scoped>\n",
       "    .dataframe tbody tr th:only-of-type {\n",
       "        vertical-align: middle;\n",
       "    }\n",
       "\n",
       "    .dataframe tbody tr th {\n",
       "        vertical-align: top;\n",
       "    }\n",
       "\n",
       "    .dataframe thead th {\n",
       "        text-align: right;\n",
       "    }\n",
       "</style>\n",
       "<table border=\"1\" class=\"dataframe\">\n",
       "  <thead>\n",
       "    <tr style=\"text-align: right;\">\n",
       "      <th></th>\n",
       "      <th>index</th>\n",
       "      <th>시군명</th>\n",
       "    </tr>\n",
       "  </thead>\n",
       "  <tbody>\n",
       "    <tr>\n",
       "      <th>0</th>\n",
       "      <td>성남시</td>\n",
       "      <td>123</td>\n",
       "    </tr>\n",
       "    <tr>\n",
       "      <th>1</th>\n",
       "      <td>수원시</td>\n",
       "      <td>122</td>\n",
       "    </tr>\n",
       "    <tr>\n",
       "      <th>2</th>\n",
       "      <td>용인시</td>\n",
       "      <td>110</td>\n",
       "    </tr>\n",
       "    <tr>\n",
       "      <th>3</th>\n",
       "      <td>고양시</td>\n",
       "      <td>99</td>\n",
       "    </tr>\n",
       "    <tr>\n",
       "      <th>4</th>\n",
       "      <td>부천시</td>\n",
       "      <td>77</td>\n",
       "    </tr>\n",
       "  </tbody>\n",
       "</table>\n",
       "</div>"
      ],
      "text/plain": [
       "  index  시군명\n",
       "0   성남시  123\n",
       "1   수원시  122\n",
       "2   용인시  110\n",
       "3   고양시   99\n",
       "4   부천시   77"
      ]
     },
     "execution_count": 8,
     "metadata": {},
     "output_type": "execute_result"
    }
   ],
   "source": [
    "#초기화\n",
    "df=df.reset_index() #초기화\n",
    "print(type(df))\n",
    "df.head()"
   ]
  },
  {
   "cell_type": "code",
   "execution_count": 9,
   "id": "94e72cfd",
   "metadata": {},
   "outputs": [
    {
     "data": {
      "text/html": [
       "<div>\n",
       "<style scoped>\n",
       "    .dataframe tbody tr th:only-of-type {\n",
       "        vertical-align: middle;\n",
       "    }\n",
       "\n",
       "    .dataframe tbody tr th {\n",
       "        vertical-align: top;\n",
       "    }\n",
       "\n",
       "    .dataframe thead th {\n",
       "        text-align: right;\n",
       "    }\n",
       "</style>\n",
       "<table border=\"1\" class=\"dataframe\">\n",
       "  <thead>\n",
       "    <tr style=\"text-align: right;\">\n",
       "      <th></th>\n",
       "      <th>시군명</th>\n",
       "      <th>개수</th>\n",
       "    </tr>\n",
       "  </thead>\n",
       "  <tbody>\n",
       "    <tr>\n",
       "      <th>0</th>\n",
       "      <td>성남시</td>\n",
       "      <td>123</td>\n",
       "    </tr>\n",
       "    <tr>\n",
       "      <th>1</th>\n",
       "      <td>수원시</td>\n",
       "      <td>122</td>\n",
       "    </tr>\n",
       "    <tr>\n",
       "      <th>2</th>\n",
       "      <td>용인시</td>\n",
       "      <td>110</td>\n",
       "    </tr>\n",
       "    <tr>\n",
       "      <th>3</th>\n",
       "      <td>고양시</td>\n",
       "      <td>99</td>\n",
       "    </tr>\n",
       "    <tr>\n",
       "      <th>4</th>\n",
       "      <td>부천시</td>\n",
       "      <td>77</td>\n",
       "    </tr>\n",
       "  </tbody>\n",
       "</table>\n",
       "</div>"
      ],
      "text/plain": [
       "   시군명   개수\n",
       "0  성남시  123\n",
       "1  수원시  122\n",
       "2  용인시  110\n",
       "3  고양시   99\n",
       "4  부천시   77"
      ]
     },
     "execution_count": 9,
     "metadata": {},
     "output_type": "execute_result"
    }
   ],
   "source": [
    "df.rename(columns={'index':'시군명','시군명':'개수'}, inplace=True)\n",
    "df.head()"
   ]
  },
  {
   "cell_type": "code",
   "execution_count": 10,
   "id": "e0417f15",
   "metadata": {},
   "outputs": [
    {
     "data": {
      "text/html": [
       "<div>\n",
       "<style scoped>\n",
       "    .dataframe tbody tr th:only-of-type {\n",
       "        vertical-align: middle;\n",
       "    }\n",
       "\n",
       "    .dataframe tbody tr th {\n",
       "        vertical-align: top;\n",
       "    }\n",
       "\n",
       "    .dataframe thead th {\n",
       "        text-align: right;\n",
       "    }\n",
       "</style>\n",
       "<table border=\"1\" class=\"dataframe\">\n",
       "  <thead>\n",
       "    <tr style=\"text-align: right;\">\n",
       "      <th></th>\n",
       "      <th>시군명</th>\n",
       "      <th>개수</th>\n",
       "    </tr>\n",
       "  </thead>\n",
       "  <tbody>\n",
       "    <tr>\n",
       "      <th>26</th>\n",
       "      <td>가평군</td>\n",
       "      <td>8</td>\n",
       "    </tr>\n",
       "    <tr>\n",
       "      <th>27</th>\n",
       "      <td>포천시</td>\n",
       "      <td>7</td>\n",
       "    </tr>\n",
       "    <tr>\n",
       "      <th>28</th>\n",
       "      <td>과천시</td>\n",
       "      <td>6</td>\n",
       "    </tr>\n",
       "    <tr>\n",
       "      <th>29</th>\n",
       "      <td>여주시</td>\n",
       "      <td>6</td>\n",
       "    </tr>\n",
       "    <tr>\n",
       "      <th>30</th>\n",
       "      <td>연천군</td>\n",
       "      <td>2</td>\n",
       "    </tr>\n",
       "  </tbody>\n",
       "</table>\n",
       "</div>"
      ],
      "text/plain": [
       "    시군명  개수\n",
       "26  가평군   8\n",
       "27  포천시   7\n",
       "28  과천시   6\n",
       "29  여주시   6\n",
       "30  연천군   2"
      ]
     },
     "execution_count": 10,
     "metadata": {},
     "output_type": "execute_result"
    }
   ],
   "source": [
    "df.tail()"
   ]
  },
  {
   "cell_type": "code",
   "execution_count": 11,
   "id": "46ea24b0",
   "metadata": {},
   "outputs": [
    {
     "name": "stdout",
     "output_type": "stream",
     "text": [
      "<class 'pandas.core.frame.DataFrame'>\n",
      "RangeIndex: 31 entries, 0 to 30\n",
      "Data columns (total 2 columns):\n",
      " #   Column  Non-Null Count  Dtype \n",
      "---  ------  --------------  ----- \n",
      " 0   시군명     31 non-null     object\n",
      " 1   개수      31 non-null     int64 \n",
      "dtypes: int64(1), object(1)\n",
      "memory usage: 624.0+ bytes\n"
     ]
    }
   ],
   "source": [
    "df.info()"
   ]
  },
  {
   "cell_type": "code",
   "execution_count": 12,
   "id": "1118ca13",
   "metadata": {},
   "outputs": [
    {
     "data": {
      "text/html": [
       "<div>\n",
       "<style scoped>\n",
       "    .dataframe tbody tr th:only-of-type {\n",
       "        vertical-align: middle;\n",
       "    }\n",
       "\n",
       "    .dataframe tbody tr th {\n",
       "        vertical-align: top;\n",
       "    }\n",
       "\n",
       "    .dataframe thead th {\n",
       "        text-align: right;\n",
       "    }\n",
       "</style>\n",
       "<table border=\"1\" class=\"dataframe\">\n",
       "  <thead>\n",
       "    <tr style=\"text-align: right;\">\n",
       "      <th></th>\n",
       "      <th>시군명</th>\n",
       "      <th>per_in</th>\n",
       "      <th>per_ex</th>\n",
       "      <th>per_tag</th>\n",
       "    </tr>\n",
       "  </thead>\n",
       "  <tbody>\n",
       "    <tr>\n",
       "      <th>0</th>\n",
       "      <td>가평군</td>\n",
       "      <td>54.020413</td>\n",
       "      <td>38.984317</td>\n",
       "      <td>6.995270</td>\n",
       "    </tr>\n",
       "    <tr>\n",
       "      <th>1</th>\n",
       "      <td>고양시</td>\n",
       "      <td>64.807564</td>\n",
       "      <td>28.208211</td>\n",
       "      <td>6.984225</td>\n",
       "    </tr>\n",
       "    <tr>\n",
       "      <th>2</th>\n",
       "      <td>과천시</td>\n",
       "      <td>50.991832</td>\n",
       "      <td>35.764294</td>\n",
       "      <td>13.243874</td>\n",
       "    </tr>\n",
       "    <tr>\n",
       "      <th>3</th>\n",
       "      <td>광명시</td>\n",
       "      <td>57.425094</td>\n",
       "      <td>31.364951</td>\n",
       "      <td>11.209955</td>\n",
       "    </tr>\n",
       "    <tr>\n",
       "      <th>4</th>\n",
       "      <td>광주시</td>\n",
       "      <td>52.580480</td>\n",
       "      <td>27.933912</td>\n",
       "      <td>19.485607</td>\n",
       "    </tr>\n",
       "  </tbody>\n",
       "</table>\n",
       "</div>"
      ],
      "text/plain": [
       "   시군명     per_in     per_ex    per_tag\n",
       "0  가평군  54.020413  38.984317   6.995270\n",
       "1  고양시  64.807564  28.208211   6.984225\n",
       "2  과천시  50.991832  35.764294  13.243874\n",
       "3  광명시  57.425094  31.364951  11.209955\n",
       "4  광주시  52.580480  27.933912  19.485607"
      ]
     },
     "execution_count": 12,
     "metadata": {},
     "output_type": "execute_result"
    }
   ],
   "source": [
    "per_df= pd.read_csv('C:/Users/KimAY/Desktop/study/workspace_python/PJT01_own/RFID비율.csv') \n",
    "per_df.head()"
   ]
  },
  {
   "cell_type": "code",
   "execution_count": 13,
   "id": "750be42c",
   "metadata": {},
   "outputs": [
    {
     "data": {
      "text/plain": [
       "per_in     54.538976\n",
       "per_ex     32.055752\n",
       "per_tag    13.405273\n",
       "dtype: float64"
      ]
     },
     "execution_count": 13,
     "metadata": {},
     "output_type": "execute_result"
    }
   ],
   "source": [
    "#경기도 전체 평균\n",
    "per_df.mean()"
   ]
  },
  {
   "cell_type": "code",
   "execution_count": 14,
   "id": "0b36f6c9",
   "metadata": {},
   "outputs": [
    {
     "data": {
      "text/html": [
       "<div>\n",
       "<style scoped>\n",
       "    .dataframe tbody tr th:only-of-type {\n",
       "        vertical-align: middle;\n",
       "    }\n",
       "\n",
       "    .dataframe tbody tr th {\n",
       "        vertical-align: top;\n",
       "    }\n",
       "\n",
       "    .dataframe thead th {\n",
       "        text-align: right;\n",
       "    }\n",
       "</style>\n",
       "<table border=\"1\" class=\"dataframe\">\n",
       "  <thead>\n",
       "    <tr style=\"text-align: right;\">\n",
       "      <th></th>\n",
       "      <th>시군명</th>\n",
       "      <th>per_in</th>\n",
       "      <th>per_ex</th>\n",
       "      <th>per_tag</th>\n",
       "    </tr>\n",
       "  </thead>\n",
       "  <tbody>\n",
       "    <tr>\n",
       "      <th>11</th>\n",
       "      <td>성남시</td>\n",
       "      <td>62.950264</td>\n",
       "      <td>28.796019</td>\n",
       "      <td>8.253716</td>\n",
       "    </tr>\n",
       "  </tbody>\n",
       "</table>\n",
       "</div>"
      ],
      "text/plain": [
       "    시군명     per_in     per_ex   per_tag\n",
       "11  성남시  62.950264  28.796019  8.253716"
      ]
     },
     "execution_count": 14,
     "metadata": {},
     "output_type": "execute_result"
    }
   ],
   "source": [
    "#성남시 데이터.\n",
    "per_df_SN=per_df[per_df['시군명']=='성남시']\n",
    "per_df_SN"
   ]
  },
  {
   "cell_type": "code",
   "execution_count": 15,
   "id": "ae6d70e2",
   "metadata": {},
   "outputs": [
    {
     "data": {
      "text/html": [
       "<div>\n",
       "<style scoped>\n",
       "    .dataframe tbody tr th:only-of-type {\n",
       "        vertical-align: middle;\n",
       "    }\n",
       "\n",
       "    .dataframe tbody tr th {\n",
       "        vertical-align: top;\n",
       "    }\n",
       "\n",
       "    .dataframe thead th {\n",
       "        text-align: right;\n",
       "    }\n",
       "</style>\n",
       "<table border=\"1\" class=\"dataframe\">\n",
       "  <thead>\n",
       "    <tr style=\"text-align: right;\">\n",
       "      <th></th>\n",
       "      <th>시군명</th>\n",
       "      <th>per_in</th>\n",
       "      <th>per_ex</th>\n",
       "      <th>per_tag</th>\n",
       "    </tr>\n",
       "  </thead>\n",
       "  <tbody>\n",
       "    <tr>\n",
       "      <th>19</th>\n",
       "      <td>여주시</td>\n",
       "      <td>37.198971</td>\n",
       "      <td>31.564181</td>\n",
       "      <td>31.236848</td>\n",
       "    </tr>\n",
       "  </tbody>\n",
       "</table>\n",
       "</div>"
      ],
      "text/plain": [
       "    시군명     per_in     per_ex    per_tag\n",
       "19  여주시  37.198971  31.564181  31.236848"
      ]
     },
     "execution_count": 15,
     "metadata": {},
     "output_type": "execute_result"
    }
   ],
   "source": [
    "#여주시 데이터\n",
    "per_df_YC=per_df[per_df['시군명']=='여주시']\n",
    "per_df_YC"
   ]
  },
  {
   "cell_type": "markdown",
   "id": "1cd4061b",
   "metadata": {},
   "source": [
    "경기도 전체 평균 비율"
   ]
  },
  {
   "cell_type": "code",
   "execution_count": 16,
   "id": "bf3a0fbb",
   "metadata": {},
   "outputs": [
    {
     "data": {
      "image/png": "[encoded data removed]",
      "text/plain": [
       "<Figure size 432x288 with 1 Axes>"
      ]
     },
     "metadata": {},
     "output_type": "display_data"
    }
   ],
   "source": [
    "ratio = [54.538976, 32.055752, 13.405273]\n",
    "labels = ['내장형', '외장형', '인식표']\n",
    "colors = ['#FFFFB2', '#FEB24C', '#F16450']\n",
    "wedgeprops={'width': 0.7, 'edgecolor': 'w', 'linewidth': 5}\n",
    "\n",
    "plt.pie(ratio, labels=labels, autopct='%.1f%%', startangle=260, counterclock=False, colors=colors, wedgeprops=wedgeprops)\n",
    "\n",
    "plt.savefig('./경기도전체평균등록유형비율파이차트.png',transparent = True)"
   ]
  },
  {
   "cell_type": "markdown",
   "id": "db4fdef9",
   "metadata": {},
   "source": [
    "성남시 비율"
   ]
  },
  {
   "cell_type": "code",
   "execution_count": 17,
   "id": "9315cc1b",
   "metadata": {},
   "outputs": [
    {
     "data": {
      "image/png": "[encoded data removed]",
      "text/plain": [
       "<Figure size 432x288 with 1 Axes>"
      ]
     },
     "metadata": {},
     "output_type": "display_data"
    }
   ],
   "source": [
    "ratio = [62.950264, 28.796019, 8.253716]\n",
    "labels = ['내장형', '외장형', '인식표']\n",
    "colors = ['#FFFFB2', '#FEB24C', '#F16450']\n",
    "wedgeprops={'width': 0.7, 'edgecolor': 'w', 'linewidth': 5}\n",
    "\n",
    "plt.pie(ratio, labels=labels, autopct='%.1f%%', startangle=260, counterclock=False, colors=colors, wedgeprops=wedgeprops)\n",
    "plt.savefig('./성남시등록유형비율파이차트.png',transparent = True)"
   ]
  },
  {
   "cell_type": "markdown",
   "id": "1f8be16e",
   "metadata": {},
   "source": [
    "여주시 비율"
   ]
  },
  {
   "cell_type": "code",
   "execution_count": 18,
   "id": "6ed16a02",
   "metadata": {},
   "outputs": [
    {
     "data": {
      "image/png": "[encoded data removed]",
      "text/plain": [
       "<Figure size 432x288 with 1 Axes>"
      ]
     },
     "metadata": {},
     "output_type": "display_data"
    }
   ],
   "source": [
    "ratio = [37.198971, 31.564181, 31.236848]\n",
    "labels = ['내장형', '외장형', '인식표']\n",
    "colors = ['#FFFFB2', '#FEB24C', '#F16450']\n",
    "wedgeprops={'width': 0.7, 'edgecolor': 'w', 'linewidth': 5}\n",
    "\n",
    "plt.pie(ratio, labels=labels, autopct='%.1f%%', startangle=260, counterclock=False, colors=colors, wedgeprops=wedgeprops)\n",
    "\n",
    "plt.savefig('./여주시등록유형비율파이차트.png',transparent = True)"
   ]
  },
  {
   "cell_type": "code",
   "execution_count": null,
   "id": "3ba9c52e",
   "metadata": {},
   "outputs": [],
   "source": []
  }
 ],
 "metadata": {
  "kernelspec": {
   "display_name": "Python 3",
   "language": "python",
   "name": "python3"
  },
  "language_info": {
   "codemirror_mode": {
    "name": "ipython",
    "version": 3
   },
   "file_extension": ".py",
   "mimetype": "text/x-python",
   "name": "python",
   "nbconvert_exporter": "python",
   "pygments_lexer": "ipython3",
   "version": "3.8.8"
  }
 },
 "nbformat": 4,
 "nbformat_minor": 5
}
